{
 "cells": [
  {
   "cell_type": "code",
   "execution_count": 92,
   "id": "be826661-da92-4a74-a46e-2b73d2b2a3fe",
   "metadata": {},
   "outputs": [],
   "source": [
    "#Answer1(part1)"
   ]
  },
  {
   "cell_type": "code",
   "execution_count": 94,
   "id": "88995d5d-b679-4295-9153-c367e4c86e21",
   "metadata": {},
   "outputs": [],
   "source": [
    "import pandas as pd\n",
    "from sklearn.preprocessing import LabelEncoder"
   ]
  },
  {
   "cell_type": "code",
   "execution_count": 96,
   "id": "f316a6ec-4b76-4a42-a30b-01b84c3bfb17",
   "metadata": {},
   "outputs": [
    {
     "name": "stdout",
     "output_type": "stream",
     "text": [
      "Orignal data\n"
     ]
    },
    {
     "data": {
      "text/html": [
       "<div>\n",
       "<style scoped>\n",
       "    .dataframe tbody tr th:only-of-type {\n",
       "        vertical-align: middle;\n",
       "    }\n",
       "\n",
       "    .dataframe tbody tr th {\n",
       "        vertical-align: top;\n",
       "    }\n",
       "\n",
       "    .dataframe thead th {\n",
       "        text-align: right;\n",
       "    }\n",
       "</style>\n",
       "<table border=\"1\" class=\"dataframe\">\n",
       "  <thead>\n",
       "    <tr style=\"text-align: right;\">\n",
       "      <th></th>\n",
       "      <th>Car_Type</th>\n",
       "      <th>Price</th>\n",
       "    </tr>\n",
       "  </thead>\n",
       "  <tbody>\n",
       "    <tr>\n",
       "      <th>0</th>\n",
       "      <td>Sedan</td>\n",
       "      <td>30000</td>\n",
       "    </tr>\n",
       "    <tr>\n",
       "      <th>1</th>\n",
       "      <td>SUV</td>\n",
       "      <td>40000</td>\n",
       "    </tr>\n",
       "    <tr>\n",
       "      <th>2</th>\n",
       "      <td>Hatchback</td>\n",
       "      <td>25000</td>\n",
       "    </tr>\n",
       "    <tr>\n",
       "      <th>3</th>\n",
       "      <td>SUV</td>\n",
       "      <td>45000</td>\n",
       "    </tr>\n",
       "  </tbody>\n",
       "</table>\n",
       "</div>"
      ],
      "text/plain": [
       "    Car_Type  Price\n",
       "0      Sedan  30000\n",
       "1        SUV  40000\n",
       "2  Hatchback  25000\n",
       "3        SUV  45000"
      ]
     },
     "execution_count": 96,
     "metadata": {},
     "output_type": "execute_result"
    }
   ],
   "source": [
    "data = {\n",
    "    'Car_Type': ['Sedan', 'SUV', 'Hatchback', 'SUV'],\n",
    "    'Price': [30000, 40000, 25000, 45000]\n",
    "}\n",
    "df = pd.DataFrame(data)\n",
    "print(\"Orignal data\")\n",
    "df"
   ]
  },
  {
   "cell_type": "code",
   "execution_count": 98,
   "id": "da1cf08d-59e6-4dec-b8a3-16766faf252a",
   "metadata": {},
   "outputs": [
    {
     "name": "stdout",
     "output_type": "stream",
     "text": [
      "   Price  Car_Type_Hatchback  Car_Type_SUV  Car_Type_Sedan\n",
      "0  30000                   0             0               1\n",
      "1  40000                   0             1               0\n",
      "2  25000                   1             0               0\n",
      "3  45000                   0             1               0\n",
      "Car_Type_hatchback, SUV, Sedan, these are the three new columns which represent where 1 is placed, that's mean the presence of that car type, and 0 indicates its absence.\n"
     ]
    }
   ],
   "source": [
    "one_hot = pd.get_dummies(df, columns=['Car_Type'], dtype=int)\n",
    "print(one_hot)\n",
    "print('Car_Type_hatchback, SUV, Sedan, these are the three new columns which represent where 1 is placed, that\\'s mean the presence of that car type, and 0 indicates its absence.')"
   ]
  },
  {
   "cell_type": "code",
   "execution_count": 100,
   "id": "5ee9d36f-e692-431c-9df7-1bf8f2337833",
   "metadata": {},
   "outputs": [
    {
     "name": "stdout",
     "output_type": "stream",
     "text": [
      "   Price  Car_Type_SUV  Car_Type_Sedan\n",
      "0  30000             0               1\n",
      "1  40000             1               0\n",
      "2  25000             0               0\n",
      "3  45000             1               0\n",
      "it allows you to compare each category relative to the reference category.\n"
     ]
    }
   ],
   "source": [
    "#Answer2\n",
    "one_hot_drop = pd.get_dummies(df, columns=['Car_Type'], drop_first= True, dtype= int)\n",
    "print(one_hot_drop)\n",
    "print('it allows you to compare each category relative to the reference category.')"
   ]
  },
  {
   "cell_type": "code",
   "execution_count": 102,
   "id": "373b0504-11e2-4d1d-9bf6-65f0fcc98b93",
   "metadata": {},
   "outputs": [
    {
     "name": "stdout",
     "output_type": "stream",
     "text": [
      "Multicollinearity is defined as when two or more columns are releated with each other or repeated in a single data set because of this the variable provided similar information and its creat an issue in large ammount of data because in the large amount of data the similar infornmation produce a confusion and its time cunsuming as well\n"
     ]
    }
   ],
   "source": [
    "#Answer3\n",
    "print('Multicollinearity is defined as when two or more columns are releated with each other or repeated in a single data set because of this the variable provided similar information and its creat an issue in large ammount of data because in the large amount of data the similar infornmation produce a confusion and its time cunsuming as well')"
   ]
  },
  {
   "cell_type": "code",
   "execution_count": 104,
   "id": "6881e2c7-366e-429a-b4bd-54942cdd5d02",
   "metadata": {},
   "outputs": [
    {
     "name": "stdout",
     "output_type": "stream",
     "text": [
      "orignal data\n",
      "     Size  Price\n",
      "0   Small     10\n",
      "1  Medium     20\n",
      "2   Large     30\n",
      "3  Medium     25\n"
     ]
    }
   ],
   "source": [
    "#Answer4(part 2)\n",
    "data = {\n",
    "    'Size': ['Small', 'Medium', 'Large', 'Medium'],\n",
    "    'Price': [10, 20, 30, 25]\n",
    "}\n",
    "df = pd.DataFrame(data)\n",
    "print(\"orignal data\")\n",
    "print(df)"
   ]
  },
  {
   "cell_type": "code",
   "execution_count": 106,
   "id": "dc0c6770-82c7-4b00-877a-8d08f5ea215b",
   "metadata": {},
   "outputs": [
    {
     "name": "stdout",
     "output_type": "stream",
     "text": [
      "After changes\n",
      "     Size  Price  Size_Encoded\n",
      "0   Small     10             2\n",
      "1  Medium     20             1\n",
      "2   Large     30             0\n",
      "3  Medium     25             1\n",
      "Small=2,Medium=1,Large=0, label encoder assigned value due to alphabatical order beacuse in labelencoder order is neccessary\n"
     ]
    }
   ],
   "source": [
    "label_encoder = LabelEncoder()\n",
    "df['Size_Encoded'] = label_encoder.fit_transform(df['Size'])\n",
    "print(\"After changes\")\n",
    "print(df)\n",
    "print('Small=2,Medium=1,Large=0, label encoder assigned value due to alphabatical order beacuse in labelencoder order is neccessary')"
   ]
  },
  {
   "cell_type": "code",
   "execution_count": 108,
   "id": "4e486f93-541f-417c-85e1-be895f113905",
   "metadata": {},
   "outputs": [
    {
     "name": "stdout",
     "output_type": "stream",
     "text": [
      "orignal data\n",
      "     Size\n",
      "0   Small\n",
      "1  Medium\n",
      "2   Large\n"
     ]
    }
   ],
   "source": [
    "#Answer5\n",
    "data = {\n",
    "    'Size': ['Small', 'Medium', 'Large']    \n",
    "}\n",
    "df = pd.DataFrame(data)\n",
    "print('orignal data')\n",
    "print(df)"
   ]
  },
  {
   "cell_type": "code",
   "execution_count": 110,
   "id": "e59b1383-87d1-4a90-b5a3-cec40f57dfb9",
   "metadata": {},
   "outputs": [
    {
     "name": "stdout",
     "output_type": "stream",
     "text": [
      "Encoded_size\n",
      "     Size  Encoded_size\n",
      "0   Small             0\n",
      "1  Medium             1\n",
      "2   Large             2\n",
      "Mapping is sometimes better than labelencoder because mapping is directly visible to the code and it easier to understand for other person and its make program or problem responsive\n"
     ]
    }
   ],
   "source": [
    "size_order = {'Small':0, 'Medium':1,'Large':2}\n",
    "df['Encoded_size'] = df['Size'].map(size_order)\n",
    "print('Encoded_size')\n",
    "print(df)\n",
    "print('Mapping is sometimes better than labelencoder because mapping is directly visible to the code and it easier to understand for other person and its make program or problem responsive')"
   ]
  },
  {
   "cell_type": "code",
   "execution_count": 112,
   "id": "2f14c3cd-9604-4780-86e3-80bdb4fb5130",
   "metadata": {},
   "outputs": [
    {
     "name": "stdout",
     "output_type": "stream",
     "text": [
      "scenario1,\n",
      " All the colors of car  are categorical and have no authentic order and this would be appropriate one_hot_encoding\n",
      " Scenario2,\n",
      " Education levels have a clear ordinal related and tis would be appropriate to label_encoding\n",
      " Scenario3,\n",
      " City names are categorical with no perfect order. tis would be appropriate to One-Hot_encoding\n",
      "  Senario4\n",
      " this would be appropriate label_encoding Temperature categories have an ordinal relationship (Cold < Warm < Hot)\n"
     ]
    }
   ],
   "source": [
    "#Answer6(part3)\n",
    "print('scenario1,\\n All the colors of car  are categorical and have no authentic order and this would be appropriate one_hot_encoding\\n Scenario2,\\n Education levels have a clear ordinal related and tis would be appropriate to label_encoding\\n Scenario3,\\n City names are categorical with no perfect order. tis would be appropriate to One-Hot_encoding\\n  Senario4\\n this would be appropriate label_encoding Temperature categories have an ordinal relationship (Cold < Warm < Hot)')"
   ]
  },
  {
   "cell_type": "code",
   "execution_count": 114,
   "id": "fd1c92f9-1729-4c62-b923-b4153186c8c3",
   "metadata": {},
   "outputs": [
    {
     "name": "stdout",
     "output_type": "stream",
     "text": [
      "Original data\n",
      "   Color    Size  Price  Rating\n",
      "0    Red   Small    150     4.5\n",
      "1   Blue   Large    200     3.8\n",
      "2  Green  Medium    180     4.1\n",
      "3   Blue  Medium    220     4.7\n",
      "4    Red   Small    160     3.9\n"
     ]
    }
   ],
   "source": [
    "#Answer7(part2)\n",
    "data = {\n",
    "    'Color': ['Red', 'Blue', 'Green', 'Blue', 'Red'],\n",
    "    'Size': ['Small', 'Large', 'Medium', 'Medium', 'Small'], \n",
    "    'Price': [150, 200, 180, 220, 160],  \n",
    "    'Rating': [4.5, 3.8, 4.1, 4.7, 3.9]  \n",
    "}\n",
    "df = pd.DataFrame(data)\n",
    "print(\"Original data\")\n",
    "print(df)"
   ]
  },
  {
   "cell_type": "code",
   "execution_count": 116,
   "id": "2e050111-ecb2-40a7-b071-75aede70b28a",
   "metadata": {},
   "outputs": [
    {
     "name": "stdout",
     "output_type": "stream",
     "text": [
      "     Size  Label_Encoded_Size  Color_Blue  Color_Green  Color_Red  Price_150  \\\n",
      "0   Small                   2           0            0          1          1   \n",
      "1   Large                   0           1            0          0          0   \n",
      "2  Medium                   1           0            1          0          0   \n",
      "3  Medium                   1           1            0          0          0   \n",
      "4   Small                   2           0            0          1          0   \n",
      "\n",
      "   Price_160  Price_180  Price_200  Price_220  Rating_3.8  Rating_3.9  \\\n",
      "0          0          0          0          0           0           0   \n",
      "1          0          0          1          0           1           0   \n",
      "2          0          1          0          0           0           0   \n",
      "3          0          0          0          1           0           0   \n",
      "4          1          0          0          0           0           1   \n",
      "\n",
      "   Rating_4.1  Rating_4.5  Rating_4.7  \n",
      "0           0           1           0  \n",
      "1           0           0           0  \n",
      "2           1           0           0  \n",
      "3           0           0           1  \n",
      "4           0           0           0  \n"
     ]
    }
   ],
   "source": [
    "label_encoder=LabelEncoder()\n",
    "df[\"Label_Encoded_Size\"] = label_encoder.fit_transform(df[\"Size\"])\n",
    "df = pd.get_dummies(df,columns = [\"Color\",\"Price\",\"Rating\"],dtype=int)\n",
    "print(df)"
   ]
  }
 ],
 "metadata": {
  "kernelspec": {
   "display_name": "Python [conda env:base] *",
   "language": "python",
   "name": "conda-base-py"
  },
  "language_info": {
   "codemirror_mode": {
    "name": "ipython",
    "version": 3
   },
   "file_extension": ".py",
   "mimetype": "text/x-python",
   "name": "python",
   "nbconvert_exporter": "python",
   "pygments_lexer": "ipython3",
   "version": "3.12.7"
  }
 },
 "nbformat": 4,
 "nbformat_minor": 5
}
